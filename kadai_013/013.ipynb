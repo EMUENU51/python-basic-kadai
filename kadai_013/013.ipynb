{
  "nbformat": 4,
  "nbformat_minor": 0,
  "metadata": {
    "colab": {
      "provenance": []
    },
    "kernelspec": {
      "name": "python3",
      "display_name": "Python 3"
    },
    "language_info": {
      "name": "python"
    }
  },
  "cells": [
    {
      "cell_type": "code",
      "source": [
        "def calculate_total(price, tax_fee = 1.1):\n",
        "\n",
        "    total = price * (tax_fee)\n",
        "    return total\n",
        "\n",
        "price = 1000\n",
        "tax_fee = 1.1\n",
        "\n",
        "total_price = calculate_total(price, tax_fee)\n",
        "print(f\"商品の合計金額（消費税込み）は {total_price}円です\")\n"
      ],
      "metadata": {
        "colab": {
          "base_uri": "https://localhost:8080/"
        },
        "id": "d4-x_slzUSVM",
        "outputId": "b0d3f9c5-e415-434b-d52f-29e8a1bcaf4e"
      },
      "execution_count": 14,
      "outputs": [
        {
          "output_type": "stream",
          "name": "stdout",
          "text": [
            "商品の合計金額（消費税込み）は 1100.0円です\n"
          ]
        }
      ]
    }
  ]
}