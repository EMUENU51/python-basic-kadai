{
  "nbformat": 4,
  "nbformat_minor": 0,
  "metadata": {
    "colab": {
      "provenance": []
    },
    "kernelspec": {
      "name": "python3",
      "display_name": "Python 3"
    },
    "language_info": {
      "name": "python"
    }
  },
  "cells": [
    {
      "cell_type": "code",
      "source": [
        "array = [\n",
        "    \"月曜日は晴れです\",\n",
        "    \"火曜日は雨です\",\n",
        "    \"水曜日は晴れです\",\n",
        "    \"木曜日は晴れです\",\n",
        "    \"金曜日は曇りです\",\n",
        "    \"土曜日は曇りのち雨です\",\n",
        "    \"日曜日は雷雨です\"\n",
        "    ]\n",
        "\n",
        "dictionary = {\n",
        "    \"mon\" : \"晴れ\",\n",
        "    \"tue\" : \"雨\",\n",
        "    \"wed\" : \"晴れ\",\n",
        "    \"thu\" : \"晴れ\",\n",
        "    \"fri\" : \"曇り\",\n",
        "    \"sat\" : \"曇りち雨\",\n",
        "    \"sun\" : \"雷雨\"\n",
        "    }\n",
        "\n",
        "print(array[3])\n",
        "\n",
        "print(dictionary[\"thu\"])"
      ],
      "metadata": {
        "id": "9IVlito9mXfB",
        "colab": {
          "base_uri": "https://localhost:8080/"
        },
        "outputId": "972222a4-b0f9-4073-8fea-a78479154474"
      },
      "execution_count": 15,
      "outputs": [
        {
          "output_type": "stream",
          "name": "stdout",
          "text": [
            "木曜日は晴れです\n",
            "晴れ\n"
          ]
        }
      ]
    },
    {
      "cell_type": "code",
      "source": [],
      "metadata": {
        "id": "7Fm6VZqrtqJL"
      },
      "execution_count": null,
      "outputs": []
    }
  ]
}