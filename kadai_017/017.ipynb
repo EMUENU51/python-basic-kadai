{
  "nbformat": 4,
  "nbformat_minor": 0,
  "metadata": {
    "colab": {
      "provenance": []
    },
    "kernelspec": {
      "name": "python3",
      "display_name": "Python 3"
    },
    "language_info": {
      "name": "python"
    }
  },
  "cells": [
    {
      "cell_type": "code",
      "source": [
        "class Human():\n",
        "    def __init__(self, name, age,):\n",
        "        self.name = name\n",
        "        self.age = age\n",
        "\n",
        "def check_adult(self):\n",
        "    if self > 20:\n",
        "      print(\"nobeは大人です\")\n",
        "    else:\n",
        "      print(\"nobeは未成年です\")\n",
        "\n",
        "human = Human(\"nobe\", 31)\n",
        "check_adult(human.age)"
      ],
      "metadata": {
        "colab": {
          "base_uri": "https://localhost:8080/"
        },
        "id": "NCqI68Nwskcp",
        "outputId": "2e2dbd87-ffde-4079-9ddf-8e9377c18155"
      },
      "execution_count": 26,
      "outputs": [
        {
          "output_type": "stream",
          "name": "stdout",
          "text": [
            "nobeは大人です\n"
          ]
        }
      ]
    }
  ]
}