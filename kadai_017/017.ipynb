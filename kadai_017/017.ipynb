{
  "nbformat": 4,
  "nbformat_minor": 0,
  "metadata": {
    "colab": {
      "provenance": []
    },
    "kernelspec": {
      "name": "python3",
      "display_name": "Python 3"
    },
    "language_info": {
      "name": "python"
    }
  },
  "cells": [
    {
      "cell_type": "code",
      "source": [
        "class Human:\n",
        "    def __init__(self, name, age,):\n",
        "        self.name = name\n",
        "        self.age = age\n",
        "\n",
        "    def check_adult(self):\n",
        "        if self.age >= 20:\n",
        "            print(f\"{self.name}は大人です\")\n",
        "        else:\n",
        "            print(f\"{self.name}は大人でない\")\n",
        "\n",
        "humans = [\n",
        "    Human(\"nobe\", 31),\n",
        "    Human(\"hara\", 21),\n",
        "    Human(\"masa\", 11),\n",
        "    Human(\"sora\", 10),\n",
        "    Human(\"umi\", 20),\n",
        "    Human(\"riku\", 30)\n",
        "]\n",
        "\n",
        "for human in humans:\n",
        "    human.check_adult()"
      ],
      "metadata": {
        "colab": {
          "base_uri": "https://localhost:8080/"
        },
        "id": "OUKltB-IFjNG",
        "outputId": "ac354a5a-dcbb-4d81-c309-dd229ae013c9"
      },
      "execution_count": 5,
      "outputs": [
        {
          "output_type": "stream",
          "name": "stdout",
          "text": [
            "nobeは大人です\n",
            "haraは大人です\n",
            "masaは大人でない\n",
            "soraは大人でない\n",
            "umiは大人です\n",
            "rikuは大人です\n"
          ]
        }
      ]
    }
  ]
}