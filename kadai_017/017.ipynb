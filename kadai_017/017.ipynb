{
  "nbformat": 4,
  "nbformat_minor": 0,
  "metadata": {
    "colab": {
      "provenance": []
    },
    "kernelspec": {
      "name": "python3",
      "display_name": "Python 3"
    },
    "language_info": {
      "name": "python"
    }
  },
  "cells": [
    {
      "cell_type": "code",
      "source": [
        "names = [\"nobe\", \"hara\", \"masa\"]\n",
        "ages = [31, 19, 20]\n",
        "\n",
        "class Human:\n",
        "    def __init__(self, name, age,):\n",
        "        self.name = name\n",
        "        self.age = age\n",
        "\n",
        "    def check_adult(self):\n",
        "        if self.age >= 20:\n",
        "            print(f\"{self.name}は大人です\")\n",
        "        else:\n",
        "            print(f\"{self.name}は未成年です\")\n",
        "\n",
        "for i in range(len(names)):\n",
        "    human = Human(names[i], ages[i])\n",
        "    human.check_adult()\n",
        "\n",
        "\n"
      ],
      "metadata": {
        "colab": {
          "base_uri": "https://localhost:8080/"
        },
        "id": "NCqI68Nwskcp",
        "outputId": "f13496b1-b81f-4dfe-bcb9-33e109ad297e"
      },
      "execution_count": 18,
      "outputs": [
        {
          "output_type": "stream",
          "name": "stdout",
          "text": [
            "nobeは大人です\n",
            "haraは未成年です\n",
            "masaは大人です\n"
          ]
        }
      ]
    }
  ]
}